{
 "cells": [
  {
   "cell_type": "code",
   "execution_count": 1,
   "id": "cbc41e76",
   "metadata": {},
   "outputs": [
    {
     "name": "stderr",
     "output_type": "stream",
     "text": [
      "/usr/local/lib/python3.10/dist-packages/tqdm/auto.py:21: TqdmWarning: IProgress not found. Please update jupyter and ipywidgets. See https://ipywidgets.readthedocs.io/en/stable/user_install.html\n",
      "  from .autonotebook import tqdm as notebook_tqdm\n"
     ]
    }
   ],
   "source": [
    "import evaluate\n",
    "from transformers import AutoModelForSeq2SeqLM, AutoTokenizer\n",
    "\n",
    "from time import time\n",
    "\n",
    "# braille_text = \"⠼⠓⠙⠁⠃⠉⠊ ⠓⠶⠞⠼ ⠚⠴⠺ ⠤ ⠘ ⠌⠢ ⠛⠊ ⠝⠩ ⠳⠬ ⠊⠓⠑ ⠛⠕⠛⠫ ⠵⠪ ⠵⠼⠛⠫ ⠟⠥⠅⠷⠐ ⠊⠛⠡ ⠃⠔ ⠌⠲⠛⠕ ⠛⠩⠱⠖ ⠙⠢ ⠟⠥⠅⠷⠇⠭ ⠃⠥⠟⠲ ⠱⠦⠇⠪⠐ ⠙⠧⠱ ⠃⠡ ⠍⠮⠳ ⠙⠖ ⠛⠕⠱⠼ ⠙⠢ ⠟⠼⠙⠥ ⠐⠆\"\n",
    "# ground_truth = \"841239\\t黄腾 认为 ： “ 这 几 年 由于 一些 国家 在 增加 出口 ， 已经 把 中国 减少 的 出口量 补充 上来 ， 但是 并 没有 到 过剩 的 程度 。\\n\"\n",
    "\n",
    "\n",
    "# braille_text = \"⠂⠆⠒⠲⠢⠖⠶⠦⠔⠴⠁⠃⠉⠙⠑⠋⠛⠓⠊⠚⠅⠇⠍⠝⠕⠏⠟⠗⠎⠞⠥⠧⠺⠭⠽⠵⠮⠐⠼⠫⠩⠯⠄⠷⠾⠡⠬⠠⠤⠨⠌⠆⠰⠣⠿⠜⠹⠈⠪⠳⠻⠘⠸\"\n",
    "braille_text = \"⠼⠉⠚⠊⠁⠋⠚ ⠕ ⠛⠣⠇⠪ ⠓⠷ ⠙⠔ ⠓⠧ ⠠⠦ ⠅⠽ ⠓⠡ ⠓⠡⠐ ⠙⠊⠌⠴ ⠇⠢⠰⠂\"\n",
    "ground_truth = \"309160 我 进来 后 大 喊 ‘ 快 醒 醒 ， 地震 了 ！\"\n"
   ]
  },
  {
   "cell_type": "code",
   "execution_count": 2,
   "id": "27e164b9",
   "metadata": {},
   "outputs": [],
   "source": [
    "braille_text = \"⠂⠆⠒⠲⠢⠖⠶⠦⠔⠴⠁⠃⠉⠙⠑⠋⠛⠓⠊⠚⠅⠇⠍⠝⠕⠏⠟⠗⠎⠞⠥⠧⠺⠭⠽⠵⠮⠐⠼⠫⠩⠯⠄⠷⠾⠡⠬⠠⠤⠨⠌⠆⠰⠣⠿⠜⠹⠈⠪⠳⠻⠘⠸\""
   ]
  },
  {
   "cell_type": "code",
   "execution_count": 3,
   "id": "433f34cd",
   "metadata": {},
   "outputs": [
    {
     "name": "stdout",
     "output_type": "stream",
     "text": [
      "Model loaded, Time: 1761116396.3420613\n"
     ]
    }
   ],
   "source": [
    "model = AutoModelForSeq2SeqLM.from_pretrained(\"../base_model/mt5-small-ft-Chinese-Braille\")\n",
    "print(f\"Model loaded, Time: {time()}\")"
   ]
  },
  {
   "cell_type": "code",
   "execution_count": 4,
   "id": "20c36473",
   "metadata": {},
   "outputs": [
    {
     "name": "stdout",
     "output_type": "stream",
     "text": [
      "Tokenizer loaded, Time: 1761116398.0932465\n"
     ]
    }
   ],
   "source": [
    "tokenizer = AutoTokenizer.from_pretrained(\"../base_model/mt5-small-ft-Chinese-Braille\", use_fast=False)\n",
    "print(f\"Tokenizer loaded, Time: {time()}\")"
   ]
  },
  {
   "cell_type": "code",
   "execution_count": 5,
   "id": "e6685e07",
   "metadata": {},
   "outputs": [
    {
     "name": "stdout",
     "output_type": "stream",
     "text": [
      "Generation completed, Time: 1761117061.826393\n"
     ]
    }
   ],
   "source": [
    "\n",
    "inputs = tokenizer(\n",
    "    braille_text, return_tensors=\"pt\", max_length=280, padding=True, truncation=True\n",
    ")\n",
    "output_sequences = model.generate(\n",
    "    input_ids=inputs[\"input_ids\"],\n",
    "    attention_mask=inputs[\"attention_mask\"],\n",
    "    max_new_tokens=300,\n",
    "    num_beams=5,\n",
    ")\n",
    "print(f\"Generation completed, Time: {time()}\")\n"
   ]
  },
  {
   "cell_type": "code",
   "execution_count": 6,
   "id": "fea066f0",
   "metadata": {},
   "outputs": [],
   "source": [
    "# print(f\"Generation completed, Time: {time.()}\")"
   ]
  },
  {
   "cell_type": "code",
   "execution_count": 7,
   "id": "dbc6f5bd",
   "metadata": {},
   "outputs": [
    {
     "data": {
      "text/plain": [
       "tensor([[     0,    356, 205332,    259,  63089,    838,    259,   9636,    259,\n",
       "           6890,    259,  59167,    259,  18789,   8216,   9684,   5579,    259,\n",
       "           4233,  90311,    259,  29500,   4057,  27688,    259,    261,    259,\n",
       "          24582,    259, 111200,    259,  19185,  36391,    259,  14771,    259,\n",
       "          18719,    259,   5162,    298,    267,    359,    259,  19663,    259,\n",
       "            296,    259,  19663,    259,  51674,    259,  30922,   2151,    259,\n",
       "            292,    259,   5718,    259,   1637,    259,  12901,    259,    365,\n",
       "            259,   9896,    259,   5019,  12901,    359,    259,   9896,    259,\n",
       "           5019,  12901,    259,    365,    259,   9896,    259,   5019,  12901,\n",
       "            359,    259,   9896,    259,   5019,  12901,    259,    365,    259,\n",
       "           9896,    259,   5019,  12901,    359,    259,   9896,    259,   5019,\n",
       "          12901,    259,    365,    259,   9896,    259,   5019,  12901,    359,\n",
       "            259,   9896,    259,   5019,  12901,    259,    365,    259,   9896,\n",
       "            259,   5019,  12901,    359,    259,   9896,    259,   5019,  12901,\n",
       "            259,    365,    259,   9896,    259,   5019,  12901,    359,    259,\n",
       "           9896,    259,   5019,  12901,    259,    365,    259,   9896,    259,\n",
       "           5019,  12901,    359,    259,   9896,    259,   5019,  12901,    259,\n",
       "            365,    259,    306,      1]])"
      ]
     },
     "execution_count": 7,
     "metadata": {},
     "output_type": "execute_result"
    }
   ],
   "source": [
    "output_sequences"
   ]
  },
  {
   "cell_type": "code",
   "execution_count": 8,
   "id": "57229473",
   "metadata": {},
   "outputs": [
    {
     "name": "stdout",
     "output_type": "stream",
     "text": [
      "translated_text='23567 昔日 克 马 诺 皮尔斯图 安慰 杨外资, 雅 颜 远欧 约 赢 于 A: “ 印 ; 印 瓦 药用 、 爱 有 玩 ” 云 游玩 “ 云 游玩 ” 云 游玩 “ 云 游玩 ” 云 游玩 “ 云 游玩 ” 云 游玩 “ 云 游玩 ” 云 游玩 “ 云 游玩 ” 云 游玩 “ 云 游玩 ” 云 游玩 “ 云 游玩 ” 。'\n",
      "ground_truth='309160 我 进来 后 大 喊 ‘ 快 醒 醒 ， 地震 了 ！'\n"
     ]
    }
   ],
   "source": [
    "translated_text = tokenizer.decode(output_sequences[0], skip_special_tokens=True)\n",
    "print(f\"{translated_text=}\")\n",
    "print(f\"{ground_truth=}\")\n"
   ]
  },
  {
   "cell_type": "code",
   "execution_count": 9,
   "id": "dae6e04a",
   "metadata": {},
   "outputs": [],
   "source": [
    "ground_truth = \"309160 我 进来 后 大 喊 ‘ 快 醒 醒 ， 地震 了 ！\""
   ]
  },
  {
   "cell_type": "code",
   "execution_count": 10,
   "id": "d2d6be84",
   "metadata": {},
   "outputs": [
    {
     "name": "stdout",
     "output_type": "stream",
     "text": [
      "results={'score': 0.0, 'counts': [0, 0, 0, 0], 'totals': [71, 70, 69, 68], 'precisions': [0.0, 0.0, 0.0, 0.0], 'bp': 1.0, 'sys_len': 71, 'ref_len': 14}\n",
      "BLEU score: 0.0 %\n"
     ]
    }
   ],
   "source": [
    "metric  = evaluate.load(\"sacrebleu\")\n",
    "results = metric.compute(predictions=[translated_text], references=[[ground_truth]])\n",
    "print(f\"{results=}\")\n",
    "print(f\"BLEU score: {round(results['score'], 3)} %\")"
   ]
  },
  {
   "cell_type": "code",
   "execution_count": null,
   "id": "429ea13b",
   "metadata": {},
   "outputs": [],
   "source": []
  }
 ],
 "metadata": {
  "kernelspec": {
   "display_name": "Python 3",
   "language": "python",
   "name": "python3"
  },
  "language_info": {
   "codemirror_mode": {
    "name": "ipython",
    "version": 3
   },
   "file_extension": ".py",
   "mimetype": "text/x-python",
   "name": "python",
   "nbconvert_exporter": "python",
   "pygments_lexer": "ipython3",
   "version": "3.10.12"
  }
 },
 "nbformat": 4,
 "nbformat_minor": 5
}
